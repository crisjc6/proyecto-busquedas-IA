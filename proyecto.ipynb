{
 "cells": [
  {
   "cell_type": "markdown",
   "metadata": {},
   "source": [
    "![image](https://user-images.githubusercontent.com/50051312/68091596-abd14180-fe4f-11e9-8c5e-5f629ab0426b.png)\n",
    "\n",
    "\n",
    "### PERÍODO ACADÉMICO: 2016-B\n",
    "\n",
    "### ASIGNATURA:  INTELIGENCIA ARTIFICIAL   GRUPO: GR1\n",
    "\n",
    "### PROFESOR: Ing. MSc. Myriam Hernández A.\n",
    "\n",
    "### TIPO DE INSTRUMENTO: PROYECTO BIMESTRAL\n",
    "\n",
    "### DESCRIPCIÓN: INFORME\n",
    "\n",
    "### FECHA DE ENTREGA LÍMITE: 11/11/2019\n",
    "\n",
    "### Integrantes:\n",
    "* Edwin Cocha\n",
    "* Cristhian Jumbo\n",
    "* Billy Proano\n",
    "\n",
    "## Proyecto de primer bimestre\n",
    "### Implementar la busqueda mas optima mapa de bulgaria\n",
    "* Realizar en python un programa que me permita realizarlo de manera optima \n",
    "\n",
    "\n",
    "### 1 OBJETIVOS\n",
    "\n",
    "#### 1.1 Objetivo General\n",
    "\n",
    "- Aplicar todos los conocimientos adquiridos durante el el primer bimestre en especial las busquedas informadas y las no informadas, la implementacion del algoritmo mas optimo de busquedas para dara solucion al problema del mapa de bulgaria. \n",
    "\n",
    "#### 1.2 Objetivo Especificos\n",
    "\n",
    "- Implementar el algoritmo de busqueda A* para la ruta entre Arad y Bucarest utilizando el lenguaje de programacion en de python. \n",
    "- Interpretar las entradas y las salidas de la solucion.\n",
    "\n",
    "### 2 MARCO TEORICO\n",
    "\n",
    "// busqueda informadas \n",
    "// busqueda informada algoritmo A*\n",
    "\n",
    "### 3 PROCEDIMIENTO Y DESARROLLO\n",
    "\n",
    "![image](https://user-images.githubusercontent.com/50051312/68638946-1843e480-04d1-11ea-93d7-d95079630be1.png)\n",
    "Fig 1. Muestra el grafo del mapa de Rumania y la matriz heuristica "
   ]
  },
  {
   "cell_type": "code",
   "execution_count": null,
   "metadata": {},
   "outputs": [],
   "source": []
  }
 ],
 "metadata": {
  "kernelspec": {
   "display_name": "Python 3",
   "language": "python",
   "name": "python3"
  },
  "language_info": {
   "codemirror_mode": {
    "name": "ipython",
    "version": 3
   },
   "file_extension": ".py",
   "mimetype": "text/x-python",
   "name": "python",
   "nbconvert_exporter": "python",
   "pygments_lexer": "ipython3",
   "version": "3.7.3"
  }
 },
 "nbformat": 4,
 "nbformat_minor": 4
}
